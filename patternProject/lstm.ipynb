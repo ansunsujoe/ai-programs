{
 "metadata": {
  "language_info": {
   "codemirror_mode": {
    "name": "ipython",
    "version": 3
   },
   "file_extension": ".py",
   "mimetype": "text/x-python",
   "name": "python",
   "nbconvert_exporter": "python",
   "pygments_lexer": "ipython3",
   "version": "3.7.3-final"
  },
  "orig_nbformat": 2,
  "kernelspec": {
   "name": "python3",
   "display_name": "Python 3.7.3 64-bit ('stats': conda)",
   "metadata": {
    "interpreter": {
     "hash": "3d89255d718f016f7a36394bf2f06a07d69e3bf03ac646870d8bee5ca23629e2"
    }
   }
  }
 },
 "nbformat": 4,
 "nbformat_minor": 2,
 "cells": [
  {
   "source": [
    "# LSTM with Raw Stock Data\n",
    "\n",
    "This is an LSTM model with raw stock data values."
   ],
   "cell_type": "markdown",
   "metadata": {}
  },
  {
   "source": [
    "**Step 1: Imports**"
   ],
   "cell_type": "markdown",
   "metadata": {}
  },
  {
   "cell_type": "code",
   "execution_count": 7,
   "metadata": {},
   "outputs": [
    {
     "output_type": "stream",
     "name": "stdout",
     "text": [
      "/Users/ansun/miniconda3/envs/stats/bin/python\n"
     ]
    }
   ],
   "source": [
    "!which python"
   ]
  },
  {
   "cell_type": "code",
   "execution_count": 8,
   "metadata": {},
   "outputs": [],
   "source": [
    "import pandas as pd\n",
    "import matplotlib.pyplot as plt\n",
    "import numpy as np"
   ]
  },
  {
   "source": [
    "**Step 2: Data Preprocessing**\n",
    "\n",
    "Preprocess the stock data."
   ],
   "cell_type": "markdown",
   "metadata": {}
  },
  {
   "cell_type": "code",
   "execution_count": null,
   "metadata": {},
   "outputs": [],
   "source": [
    "def processAmeritradeFile(filename, options):\n",
    "    # Create a dictionary to store the data\n",
    "    stockData = {}\n",
    "\n",
    "    # Read the file\n",
    "    fd = open(filename, \"r\")\n",
    "    data = ast.literal_eval(fd.read())\n",
    "\n",
    "    # Create a dictionary entry for the prices\n",
    "    stockData[\"prices\"] = []\n",
    "\n",
    "    # Parse out the prices themselves\n",
    "    for i in range(len(data[\"candles\"])):\n",
    "        stockData[\"prices\"].append(data[\"candles\"][i][\"close\"])\n",
    "\n",
    "    # Parse the volumes if needed\n",
    "    # This will be for a later time\n",
    "    if \"volume\" in options:\n",
    "        pass\n",
    "\n",
    "    # Calculate stock price changes as percentages and add to dictionary\n",
    "    if \"changes\" in options:\n",
    "        stockData[\"changes\"] = []\n",
    "        for i in range(len(stockData[\"prices\"]) - 1):\n",
    "            self.jumpValues.append((self.values[i + 1] - self.values[i]) * 100 / self.values[i])"
   ]
  }
 ]
}